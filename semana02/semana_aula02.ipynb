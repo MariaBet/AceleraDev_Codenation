{
 "cells": [
  {
   "cell_type": "code",
   "execution_count": 3,
   "metadata": {},
   "outputs": [],
   "source": []
  },
  {
   "cell_type": "code",
   "execution_count": 2,
   "metadata": {},
   "outputs": [
    {
     "name": "stdout",
     "output_type": "stream",
     "text": [
      "Collecting package metadata (current_repodata.json): done\n",
      "Solving environment: done\n",
      "\n",
      "## Package Plan ##\n",
      "\n",
      "  environment location: /home/betania/anaconda3/envs/datascience\n",
      "\n",
      "  added / updated specs:\n",
      "    - pandas\n",
      "\n",
      "\n",
      "The following packages will be downloaded:\n",
      "\n",
      "    package                    |            build\n",
      "    ---------------------------|-----------------\n",
      "    intel-openmp-2020.1        |              217         780 KB\n",
      "    mkl-2020.1                 |              217       129.0 MB\n",
      "    mkl-service-2.3.0          |   py38he904b0f_0          62 KB\n",
      "    mkl_fft-1.0.15             |   py38ha843d7b_0         159 KB\n",
      "    mkl_random-1.1.1           |   py38h0573a6f_0         341 KB\n",
      "    numpy-1.18.1               |   py38h4f9e942_0           5 KB\n",
      "    numpy-base-1.18.1          |   py38hde5b4d6_1         4.2 MB\n",
      "    pandas-1.0.3               |   py38h0573a6f_0         8.8 MB\n",
      "    ------------------------------------------------------------\n",
      "                                           Total:       143.3 MB\n",
      "\n",
      "The following NEW packages will be INSTALLED:\n",
      "\n",
      "  blas               pkgs/main/linux-64::blas-1.0-mkl\n",
      "  intel-openmp       pkgs/main/linux-64::intel-openmp-2020.1-217\n",
      "  libgfortran-ng     pkgs/main/linux-64::libgfortran-ng-7.3.0-hdf63c60_0\n",
      "  mkl                pkgs/main/linux-64::mkl-2020.1-217\n",
      "  mkl-service        pkgs/main/linux-64::mkl-service-2.3.0-py38he904b0f_0\n",
      "  mkl_fft            pkgs/main/linux-64::mkl_fft-1.0.15-py38ha843d7b_0\n",
      "  mkl_random         pkgs/main/linux-64::mkl_random-1.1.1-py38h0573a6f_0\n",
      "  numpy              pkgs/main/linux-64::numpy-1.18.1-py38h4f9e942_0\n",
      "  numpy-base         pkgs/main/linux-64::numpy-base-1.18.1-py38hde5b4d6_1\n",
      "  pandas             pkgs/main/linux-64::pandas-1.0.3-py38h0573a6f_0\n",
      "  pytz               pkgs/main/noarch::pytz-2020.1-py_0\n",
      "\n",
      "\n",
      "\n",
      "Downloading and Extracting Packages\n",
      "mkl-2020.1           | 129.0 MB  | ##################################### | 100% \n",
      "numpy-1.18.1         | 5 KB      | ##################################### | 100% \n",
      "intel-openmp-2020.1  | 780 KB    | ##################################### | 100% \n",
      "numpy-base-1.18.1    | 4.2 MB    | ##################################### | 100% \n",
      "mkl-service-2.3.0    | 62 KB     | ##################################### | 100% \n",
      "pandas-1.0.3         | 8.8 MB    | ##################################### | 100% \n",
      "mkl_fft-1.0.15       | 159 KB    | ##################################### | 100% \n",
      "mkl_random-1.1.1     | 341 KB    | ##################################### | 100% \n",
      "Preparing transaction: done\n",
      "Verifying transaction: done\n",
      "Executing transaction: done\n",
      "\n",
      "Note: you may need to restart the kernel to use updated packages.\n"
     ]
    }
   ],
   "source": [
    "conda install pandas\n"
   ]
  },
  {
   "cell_type": "code",
   "execution_count": 7,
   "metadata": {},
   "outputs": [],
   "source": [
    "import pandas as pd\n",
    "import numpy as np"
   ]
  },
  {
   "cell_type": "code",
   "execution_count": 8,
   "metadata": {},
   "outputs": [],
   "source": [
    "dados = {'canal_venda' : ['facebook', 'twitter', 'instagram', 'linkedin', 'facebook'],\n",
    "        'acessos': [100, 200, 300 ,400, 500],\n",
    "        'site': ['site1', 'site1', 'site2', 'site2', 'site3'],\n",
    "        'vendas': [1000.52, 1052.34, 2002, 5000, 300 ]}\n"
   ]
  },
  {
   "cell_type": "code",
   "execution_count": 9,
   "metadata": {},
   "outputs": [],
   "source": [
    "lista = [200, 200 , 300 ,800, 200]"
   ]
  },
  {
   "cell_type": "code",
   "execution_count": 10,
   "metadata": {},
   "outputs": [],
   "source": [
    "\n",
    "# Adicionando a lista ao dicionario \n",
    "dados['lista'] = lista"
   ]
  },
  {
   "cell_type": "code",
   "execution_count": 11,
   "metadata": {},
   "outputs": [
    {
     "data": {
      "text/plain": [
       "{'canal_venda': ['facebook', 'twitter', 'instagram', 'linkedin', 'facebook'],\n",
       " 'acessos': [100, 200, 300, 400, 500],\n",
       " 'site': ['site1', 'site1', 'site2', 'site2', 'site3'],\n",
       " 'vendas': [1000.52, 1052.34, 2002, 5000, 300],\n",
       " 'lista': [200, 200, 300, 800, 200]}"
      ]
     },
     "execution_count": 11,
     "metadata": {},
     "output_type": "execute_result"
    }
   ],
   "source": [
    "dados"
   ]
  },
  {
   "cell_type": "code",
   "execution_count": 12,
   "metadata": {},
   "outputs": [],
   "source": [
    "dataframe = pd.DataFrame(dados)"
   ]
  },
  {
   "cell_type": "code",
   "execution_count": 13,
   "metadata": {},
   "outputs": [
    {
     "data": {
      "text/html": [
       "<div>\n",
       "<style scoped>\n",
       "    .dataframe tbody tr th:only-of-type {\n",
       "        vertical-align: middle;\n",
       "    }\n",
       "\n",
       "    .dataframe tbody tr th {\n",
       "        vertical-align: top;\n",
       "    }\n",
       "\n",
       "    .dataframe thead th {\n",
       "        text-align: right;\n",
       "    }\n",
       "</style>\n",
       "<table border=\"1\" class=\"dataframe\">\n",
       "  <thead>\n",
       "    <tr style=\"text-align: right;\">\n",
       "      <th></th>\n",
       "      <th>canal_venda</th>\n",
       "      <th>acessos</th>\n",
       "      <th>site</th>\n",
       "      <th>vendas</th>\n",
       "      <th>lista</th>\n",
       "    </tr>\n",
       "  </thead>\n",
       "  <tbody>\n",
       "    <tr>\n",
       "      <th>0</th>\n",
       "      <td>facebook</td>\n",
       "      <td>100</td>\n",
       "      <td>site1</td>\n",
       "      <td>1000.52</td>\n",
       "      <td>200</td>\n",
       "    </tr>\n",
       "    <tr>\n",
       "      <th>1</th>\n",
       "      <td>twitter</td>\n",
       "      <td>200</td>\n",
       "      <td>site1</td>\n",
       "      <td>1052.34</td>\n",
       "      <td>200</td>\n",
       "    </tr>\n",
       "    <tr>\n",
       "      <th>2</th>\n",
       "      <td>instagram</td>\n",
       "      <td>300</td>\n",
       "      <td>site2</td>\n",
       "      <td>2002.00</td>\n",
       "      <td>300</td>\n",
       "    </tr>\n",
       "    <tr>\n",
       "      <th>3</th>\n",
       "      <td>linkedin</td>\n",
       "      <td>400</td>\n",
       "      <td>site2</td>\n",
       "      <td>5000.00</td>\n",
       "      <td>800</td>\n",
       "    </tr>\n",
       "    <tr>\n",
       "      <th>4</th>\n",
       "      <td>facebook</td>\n",
       "      <td>500</td>\n",
       "      <td>site3</td>\n",
       "      <td>300.00</td>\n",
       "      <td>200</td>\n",
       "    </tr>\n",
       "  </tbody>\n",
       "</table>\n",
       "</div>"
      ],
      "text/plain": [
       "  canal_venda  acessos   site   vendas  lista\n",
       "0    facebook      100  site1  1000.52    200\n",
       "1     twitter      200  site1  1052.34    200\n",
       "2   instagram      300  site2  2002.00    300\n",
       "3    linkedin      400  site2  5000.00    800\n",
       "4    facebook      500  site3   300.00    200"
      ]
     },
     "execution_count": 13,
     "metadata": {},
     "output_type": "execute_result"
    }
   ],
   "source": [
    "dataframe\n"
   ]
  },
  {
   "cell_type": "code",
   "execution_count": 14,
   "metadata": {},
   "outputs": [
    {
     "data": {
      "text/html": [
       "<div>\n",
       "<style scoped>\n",
       "    .dataframe tbody tr th:only-of-type {\n",
       "        vertical-align: middle;\n",
       "    }\n",
       "\n",
       "    .dataframe tbody tr th {\n",
       "        vertical-align: top;\n",
       "    }\n",
       "\n",
       "    .dataframe thead th {\n",
       "        text-align: right;\n",
       "    }\n",
       "</style>\n",
       "<table border=\"1\" class=\"dataframe\">\n",
       "  <thead>\n",
       "    <tr style=\"text-align: right;\">\n",
       "      <th></th>\n",
       "      <th>canal_venda</th>\n",
       "      <th>acessos</th>\n",
       "      <th>site</th>\n",
       "      <th>vendas</th>\n",
       "      <th>lista</th>\n",
       "    </tr>\n",
       "  </thead>\n",
       "  <tbody>\n",
       "    <tr>\n",
       "      <th>0</th>\n",
       "      <td>facebook</td>\n",
       "      <td>100</td>\n",
       "      <td>site1</td>\n",
       "      <td>1000.52</td>\n",
       "      <td>200</td>\n",
       "    </tr>\n",
       "    <tr>\n",
       "      <th>1</th>\n",
       "      <td>twitter</td>\n",
       "      <td>200</td>\n",
       "      <td>site1</td>\n",
       "      <td>1052.34</td>\n",
       "      <td>200</td>\n",
       "    </tr>\n",
       "  </tbody>\n",
       "</table>\n",
       "</div>"
      ],
      "text/plain": [
       "  canal_venda  acessos   site   vendas  lista\n",
       "0    facebook      100  site1  1000.52    200\n",
       "1     twitter      200  site1  1052.34    200"
      ]
     },
     "execution_count": 14,
     "metadata": {},
     "output_type": "execute_result"
    }
   ],
   "source": [
    "\n",
    "#printando os primeiros casos do dataframe\n",
    "dataframe.head(2)"
   ]
  },
  {
   "cell_type": "code",
   "execution_count": 15,
   "metadata": {},
   "outputs": [
    {
     "data": {
      "text/plain": [
       "(5, 5)"
      ]
     },
     "execution_count": 15,
     "metadata": {},
     "output_type": "execute_result"
    }
   ],
   "source": [
    "\n",
    "#Verificando o formato do dataframe\n",
    "dataframe.shape"
   ]
  },
  {
   "cell_type": "code",
   "execution_count": 16,
   "metadata": {},
   "outputs": [
    {
     "data": {
      "text/plain": [
       "RangeIndex(start=0, stop=5, step=1)"
      ]
     },
     "execution_count": 16,
     "metadata": {},
     "output_type": "execute_result"
    }
   ],
   "source": [
    "\n",
    "#Verificando o indice do dataframe\n",
    "dataframe.index"
   ]
  },
  {
   "cell_type": "code",
   "execution_count": 18,
   "metadata": {},
   "outputs": [],
   "source": [
    "# Criando uma nova coluna\n",
    "dataframe['nova_coluna'] = [1, 2, 3, 4, 5]"
   ]
  },
  {
   "cell_type": "code",
   "execution_count": 19,
   "metadata": {},
   "outputs": [
    {
     "data": {
      "text/html": [
       "<div>\n",
       "<style scoped>\n",
       "    .dataframe tbody tr th:only-of-type {\n",
       "        vertical-align: middle;\n",
       "    }\n",
       "\n",
       "    .dataframe tbody tr th {\n",
       "        vertical-align: top;\n",
       "    }\n",
       "\n",
       "    .dataframe thead th {\n",
       "        text-align: right;\n",
       "    }\n",
       "</style>\n",
       "<table border=\"1\" class=\"dataframe\">\n",
       "  <thead>\n",
       "    <tr style=\"text-align: right;\">\n",
       "      <th></th>\n",
       "      <th>canal_venda</th>\n",
       "      <th>acessos</th>\n",
       "      <th>site</th>\n",
       "      <th>vendas</th>\n",
       "      <th>lista</th>\n",
       "      <th>nova_coluna</th>\n",
       "    </tr>\n",
       "  </thead>\n",
       "  <tbody>\n",
       "    <tr>\n",
       "      <th>0</th>\n",
       "      <td>facebook</td>\n",
       "      <td>100</td>\n",
       "      <td>site1</td>\n",
       "      <td>1000.52</td>\n",
       "      <td>200</td>\n",
       "      <td>1</td>\n",
       "    </tr>\n",
       "    <tr>\n",
       "      <th>1</th>\n",
       "      <td>twitter</td>\n",
       "      <td>200</td>\n",
       "      <td>site1</td>\n",
       "      <td>1052.34</td>\n",
       "      <td>200</td>\n",
       "      <td>2</td>\n",
       "    </tr>\n",
       "    <tr>\n",
       "      <th>2</th>\n",
       "      <td>instagram</td>\n",
       "      <td>300</td>\n",
       "      <td>site2</td>\n",
       "      <td>2002.00</td>\n",
       "      <td>300</td>\n",
       "      <td>3</td>\n",
       "    </tr>\n",
       "    <tr>\n",
       "      <th>3</th>\n",
       "      <td>linkedin</td>\n",
       "      <td>400</td>\n",
       "      <td>site2</td>\n",
       "      <td>5000.00</td>\n",
       "      <td>800</td>\n",
       "      <td>4</td>\n",
       "    </tr>\n",
       "    <tr>\n",
       "      <th>4</th>\n",
       "      <td>facebook</td>\n",
       "      <td>500</td>\n",
       "      <td>site3</td>\n",
       "      <td>300.00</td>\n",
       "      <td>200</td>\n",
       "      <td>5</td>\n",
       "    </tr>\n",
       "  </tbody>\n",
       "</table>\n",
       "</div>"
      ],
      "text/plain": [
       "  canal_venda  acessos   site   vendas  lista  nova_coluna\n",
       "0    facebook      100  site1  1000.52    200            1\n",
       "1     twitter      200  site1  1052.34    200            2\n",
       "2   instagram      300  site2  2002.00    300            3\n",
       "3    linkedin      400  site2  5000.00    800            4\n",
       "4    facebook      500  site3   300.00    200            5"
      ]
     },
     "execution_count": 19,
     "metadata": {},
     "output_type": "execute_result"
    }
   ],
   "source": [
    "dataframe"
   ]
  },
  {
   "cell_type": "code",
   "execution_count": 20,
   "metadata": {},
   "outputs": [],
   "source": [
    "#removendo colunas"
   ]
  },
  {
   "cell_type": "code",
   "execution_count": 21,
   "metadata": {},
   "outputs": [
    {
     "data": {
      "text/html": [
       "<div>\n",
       "<style scoped>\n",
       "    .dataframe tbody tr th:only-of-type {\n",
       "        vertical-align: middle;\n",
       "    }\n",
       "\n",
       "    .dataframe tbody tr th {\n",
       "        vertical-align: top;\n",
       "    }\n",
       "\n",
       "    .dataframe thead th {\n",
       "        text-align: right;\n",
       "    }\n",
       "</style>\n",
       "<table border=\"1\" class=\"dataframe\">\n",
       "  <thead>\n",
       "    <tr style=\"text-align: right;\">\n",
       "      <th></th>\n",
       "      <th>vendas</th>\n",
       "      <th>lista</th>\n",
       "      <th>nova_coluna</th>\n",
       "    </tr>\n",
       "  </thead>\n",
       "  <tbody>\n",
       "    <tr>\n",
       "      <th>0</th>\n",
       "      <td>1000.52</td>\n",
       "      <td>200</td>\n",
       "      <td>1</td>\n",
       "    </tr>\n",
       "    <tr>\n",
       "      <th>1</th>\n",
       "      <td>1052.34</td>\n",
       "      <td>200</td>\n",
       "      <td>2</td>\n",
       "    </tr>\n",
       "    <tr>\n",
       "      <th>2</th>\n",
       "      <td>2002.00</td>\n",
       "      <td>300</td>\n",
       "      <td>3</td>\n",
       "    </tr>\n",
       "    <tr>\n",
       "      <th>3</th>\n",
       "      <td>5000.00</td>\n",
       "      <td>800</td>\n",
       "      <td>4</td>\n",
       "    </tr>\n",
       "    <tr>\n",
       "      <th>4</th>\n",
       "      <td>300.00</td>\n",
       "      <td>200</td>\n",
       "      <td>5</td>\n",
       "    </tr>\n",
       "  </tbody>\n",
       "</table>\n",
       "</div>"
      ],
      "text/plain": [
       "    vendas  lista  nova_coluna\n",
       "0  1000.52    200            1\n",
       "1  1052.34    200            2\n",
       "2  2002.00    300            3\n",
       "3  5000.00    800            4\n",
       "4   300.00    200            5"
      ]
     },
     "execution_count": 21,
     "metadata": {},
     "output_type": "execute_result"
    }
   ],
   "source": [
    "dataframe.drop(columns = ['acessos','site', 'canal_venda'])"
   ]
  },
  {
   "cell_type": "code",
   "execution_count": 22,
   "metadata": {},
   "outputs": [
    {
     "data": {
      "text/html": [
       "<div>\n",
       "<style scoped>\n",
       "    .dataframe tbody tr th:only-of-type {\n",
       "        vertical-align: middle;\n",
       "    }\n",
       "\n",
       "    .dataframe tbody tr th {\n",
       "        vertical-align: top;\n",
       "    }\n",
       "\n",
       "    .dataframe thead th {\n",
       "        text-align: right;\n",
       "    }\n",
       "</style>\n",
       "<table border=\"1\" class=\"dataframe\">\n",
       "  <thead>\n",
       "    <tr style=\"text-align: right;\">\n",
       "      <th></th>\n",
       "      <th>canal_venda</th>\n",
       "      <th>acessos</th>\n",
       "      <th>site</th>\n",
       "      <th>vendas</th>\n",
       "      <th>lista</th>\n",
       "      <th>nova_coluna</th>\n",
       "    </tr>\n",
       "  </thead>\n",
       "  <tbody>\n",
       "    <tr>\n",
       "      <th>0</th>\n",
       "      <td>facebook</td>\n",
       "      <td>100</td>\n",
       "      <td>site1</td>\n",
       "      <td>1000.52</td>\n",
       "      <td>200</td>\n",
       "      <td>1</td>\n",
       "    </tr>\n",
       "    <tr>\n",
       "      <th>1</th>\n",
       "      <td>twitter</td>\n",
       "      <td>200</td>\n",
       "      <td>site1</td>\n",
       "      <td>1052.34</td>\n",
       "      <td>200</td>\n",
       "      <td>2</td>\n",
       "    </tr>\n",
       "    <tr>\n",
       "      <th>2</th>\n",
       "      <td>instagram</td>\n",
       "      <td>300</td>\n",
       "      <td>site2</td>\n",
       "      <td>2002.00</td>\n",
       "      <td>300</td>\n",
       "      <td>3</td>\n",
       "    </tr>\n",
       "    <tr>\n",
       "      <th>3</th>\n",
       "      <td>linkedin</td>\n",
       "      <td>400</td>\n",
       "      <td>site2</td>\n",
       "      <td>5000.00</td>\n",
       "      <td>800</td>\n",
       "      <td>4</td>\n",
       "    </tr>\n",
       "    <tr>\n",
       "      <th>4</th>\n",
       "      <td>facebook</td>\n",
       "      <td>500</td>\n",
       "      <td>site3</td>\n",
       "      <td>300.00</td>\n",
       "      <td>200</td>\n",
       "      <td>5</td>\n",
       "    </tr>\n",
       "  </tbody>\n",
       "</table>\n",
       "</div>"
      ],
      "text/plain": [
       "  canal_venda  acessos   site   vendas  lista  nova_coluna\n",
       "0    facebook      100  site1  1000.52    200            1\n",
       "1     twitter      200  site1  1052.34    200            2\n",
       "2   instagram      300  site2  2002.00    300            3\n",
       "3    linkedin      400  site2  5000.00    800            4\n",
       "4    facebook      500  site3   300.00    200            5"
      ]
     },
     "execution_count": 22,
     "metadata": {},
     "output_type": "execute_result"
    }
   ],
   "source": [
    "dataframe"
   ]
  },
  {
   "cell_type": "code",
   "execution_count": 23,
   "metadata": {},
   "outputs": [
    {
     "data": {
      "text/html": [
       "<div>\n",
       "<style scoped>\n",
       "    .dataframe tbody tr th:only-of-type {\n",
       "        vertical-align: middle;\n",
       "    }\n",
       "\n",
       "    .dataframe tbody tr th {\n",
       "        vertical-align: top;\n",
       "    }\n",
       "\n",
       "    .dataframe thead th {\n",
       "        text-align: right;\n",
       "    }\n",
       "</style>\n",
       "<table border=\"1\" class=\"dataframe\">\n",
       "  <thead>\n",
       "    <tr style=\"text-align: right;\">\n",
       "      <th></th>\n",
       "      <th>lista</th>\n",
       "      <th>nova_coluna</th>\n",
       "    </tr>\n",
       "  </thead>\n",
       "  <tbody>\n",
       "    <tr>\n",
       "      <th>3</th>\n",
       "      <td>800</td>\n",
       "      <td>4</td>\n",
       "    </tr>\n",
       "    <tr>\n",
       "      <th>4</th>\n",
       "      <td>200</td>\n",
       "      <td>5</td>\n",
       "    </tr>\n",
       "  </tbody>\n",
       "</table>\n",
       "</div>"
      ],
      "text/plain": [
       "   lista  nova_coluna\n",
       "3    800            4\n",
       "4    200            5"
      ]
     },
     "execution_count": 23,
     "metadata": {},
     "output_type": "execute_result"
    }
   ],
   "source": [
    "dataframe.iloc[3:,4:]\n"
   ]
  },
  {
   "cell_type": "code",
   "execution_count": 24,
   "metadata": {},
   "outputs": [
    {
     "data": {
      "text/html": [
       "<div>\n",
       "<style scoped>\n",
       "    .dataframe tbody tr th:only-of-type {\n",
       "        vertical-align: middle;\n",
       "    }\n",
       "\n",
       "    .dataframe tbody tr th {\n",
       "        vertical-align: top;\n",
       "    }\n",
       "\n",
       "    .dataframe thead th {\n",
       "        text-align: right;\n",
       "    }\n",
       "</style>\n",
       "<table border=\"1\" class=\"dataframe\">\n",
       "  <thead>\n",
       "    <tr style=\"text-align: right;\">\n",
       "      <th></th>\n",
       "      <th>canal_venda</th>\n",
       "      <th>acessos</th>\n",
       "      <th>site</th>\n",
       "      <th>vendas</th>\n",
       "      <th>lista</th>\n",
       "      <th>nova_coluna</th>\n",
       "    </tr>\n",
       "  </thead>\n",
       "  <tbody>\n",
       "    <tr>\n",
       "      <th>0</th>\n",
       "      <td>facebook</td>\n",
       "      <td>100</td>\n",
       "      <td>site1</td>\n",
       "      <td>1000.52</td>\n",
       "      <td>200</td>\n",
       "      <td>1</td>\n",
       "    </tr>\n",
       "    <tr>\n",
       "      <th>1</th>\n",
       "      <td>twitter</td>\n",
       "      <td>200</td>\n",
       "      <td>site1</td>\n",
       "      <td>1052.34</td>\n",
       "      <td>200</td>\n",
       "      <td>2</td>\n",
       "    </tr>\n",
       "    <tr>\n",
       "      <th>2</th>\n",
       "      <td>instagram</td>\n",
       "      <td>300</td>\n",
       "      <td>site2</td>\n",
       "      <td>2002.00</td>\n",
       "      <td>300</td>\n",
       "      <td>3</td>\n",
       "    </tr>\n",
       "    <tr>\n",
       "      <th>3</th>\n",
       "      <td>linkedin</td>\n",
       "      <td>400</td>\n",
       "      <td>site2</td>\n",
       "      <td>5000.00</td>\n",
       "      <td>800</td>\n",
       "      <td>4</td>\n",
       "    </tr>\n",
       "    <tr>\n",
       "      <th>4</th>\n",
       "      <td>facebook</td>\n",
       "      <td>500</td>\n",
       "      <td>site3</td>\n",
       "      <td>300.00</td>\n",
       "      <td>200</td>\n",
       "      <td>5</td>\n",
       "    </tr>\n",
       "  </tbody>\n",
       "</table>\n",
       "</div>"
      ],
      "text/plain": [
       "  canal_venda  acessos   site   vendas  lista  nova_coluna\n",
       "0    facebook      100  site1  1000.52    200            1\n",
       "1     twitter      200  site1  1052.34    200            2\n",
       "2   instagram      300  site2  2002.00    300            3\n",
       "3    linkedin      400  site2  5000.00    800            4\n",
       "4    facebook      500  site3   300.00    200            5"
      ]
     },
     "execution_count": 24,
     "metadata": {},
     "output_type": "execute_result"
    }
   ],
   "source": [
    "\n",
    "dataframe"
   ]
  },
  {
   "cell_type": "code",
   "execution_count": 25,
   "metadata": {},
   "outputs": [
    {
     "data": {
      "text/plain": [
       "0    facebook\n",
       "1     twitter\n",
       "Name: canal_venda, dtype: object"
      ]
     },
     "execution_count": 25,
     "metadata": {},
     "output_type": "execute_result"
    }
   ],
   "source": [
    "dataframe['canal_venda'][:2]"
   ]
  },
  {
   "cell_type": "code",
   "execution_count": 26,
   "metadata": {},
   "outputs": [
    {
     "data": {
      "text/html": [
       "<div>\n",
       "<style scoped>\n",
       "    .dataframe tbody tr th:only-of-type {\n",
       "        vertical-align: middle;\n",
       "    }\n",
       "\n",
       "    .dataframe tbody tr th {\n",
       "        vertical-align: top;\n",
       "    }\n",
       "\n",
       "    .dataframe thead th {\n",
       "        text-align: right;\n",
       "    }\n",
       "</style>\n",
       "<table border=\"1\" class=\"dataframe\">\n",
       "  <thead>\n",
       "    <tr style=\"text-align: right;\">\n",
       "      <th></th>\n",
       "      <th>canal_venda</th>\n",
       "      <th>acessos</th>\n",
       "      <th>site</th>\n",
       "      <th>vendas</th>\n",
       "      <th>lista</th>\n",
       "      <th>nova_coluna</th>\n",
       "    </tr>\n",
       "  </thead>\n",
       "  <tbody>\n",
       "    <tr>\n",
       "      <th>0</th>\n",
       "      <td>facebook</td>\n",
       "      <td>100</td>\n",
       "      <td>site1</td>\n",
       "      <td>1000.52</td>\n",
       "      <td>200</td>\n",
       "      <td>1</td>\n",
       "    </tr>\n",
       "    <tr>\n",
       "      <th>1</th>\n",
       "      <td>twitter</td>\n",
       "      <td>200</td>\n",
       "      <td>site1</td>\n",
       "      <td>1052.34</td>\n",
       "      <td>200</td>\n",
       "      <td>2</td>\n",
       "    </tr>\n",
       "    <tr>\n",
       "      <th>2</th>\n",
       "      <td>instagram</td>\n",
       "      <td>300</td>\n",
       "      <td>site2</td>\n",
       "      <td>2002.00</td>\n",
       "      <td>300</td>\n",
       "      <td>3</td>\n",
       "    </tr>\n",
       "    <tr>\n",
       "      <th>3</th>\n",
       "      <td>linkedin</td>\n",
       "      <td>400</td>\n",
       "      <td>site2</td>\n",
       "      <td>5000.00</td>\n",
       "      <td>800</td>\n",
       "      <td>4</td>\n",
       "    </tr>\n",
       "    <tr>\n",
       "      <th>4</th>\n",
       "      <td>facebook</td>\n",
       "      <td>500</td>\n",
       "      <td>site3</td>\n",
       "      <td>300.00</td>\n",
       "      <td>200</td>\n",
       "      <td>5</td>\n",
       "    </tr>\n",
       "  </tbody>\n",
       "</table>\n",
       "</div>"
      ],
      "text/plain": [
       "  canal_venda  acessos   site   vendas  lista  nova_coluna\n",
       "0    facebook      100  site1  1000.52    200            1\n",
       "1     twitter      200  site1  1052.34    200            2\n",
       "2   instagram      300  site2  2002.00    300            3\n",
       "3    linkedin      400  site2  5000.00    800            4\n",
       "4    facebook      500  site3   300.00    200            5"
      ]
     },
     "execution_count": 26,
     "metadata": {},
     "output_type": "execute_result"
    }
   ],
   "source": [
    "dataframe"
   ]
  },
  {
   "cell_type": "code",
   "execution_count": null,
   "metadata": {},
   "outputs": [],
   "source": []
  }
 ],
 "metadata": {
  "kernelspec": {
   "display_name": "Python 3",
   "language": "python",
   "name": "python3"
  },
  "language_info": {
   "codemirror_mode": {
    "name": "ipython",
    "version": 3
   },
   "file_extension": ".py",
   "mimetype": "text/x-python",
   "name": "python",
   "nbconvert_exporter": "python",
   "pygments_lexer": "ipython3",
   "version": "3.8.3"
  }
 },
 "nbformat": 4,
 "nbformat_minor": 4
}
