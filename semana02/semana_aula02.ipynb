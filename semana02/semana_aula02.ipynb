{
 "cells": [
  {
   "cell_type": "code",
   "execution_count": 3,
   "metadata": {},
   "outputs": [],
   "source": []
  },
  {
   "cell_type": "code",
   "execution_count": 2,
   "metadata": {},
   "outputs": [
    {
     "name": "stdout",
     "output_type": "stream",
     "text": [
      "Collecting package metadata (current_repodata.json): done\n",
      "Solving environment: done\n",
      "\n",
      "## Package Plan ##\n",
      "\n",
      "  environment location: /home/betania/anaconda3/envs/datascience\n",
      "\n",
      "  added / updated specs:\n",
      "    - pandas\n",
      "\n",
      "\n",
      "The following packages will be downloaded:\n",
      "\n",
      "    package                    |            build\n",
      "    ---------------------------|-----------------\n",
      "    intel-openmp-2020.1        |              217         780 KB\n",
      "    mkl-2020.1                 |              217       129.0 MB\n",
      "    mkl-service-2.3.0          |   py38he904b0f_0          62 KB\n",
      "    mkl_fft-1.0.15             |   py38ha843d7b_0         159 KB\n",
      "    mkl_random-1.1.1           |   py38h0573a6f_0         341 KB\n",
      "    numpy-1.18.1               |   py38h4f9e942_0           5 KB\n",
      "    numpy-base-1.18.1          |   py38hde5b4d6_1         4.2 MB\n",
      "    pandas-1.0.3               |   py38h0573a6f_0         8.8 MB\n",
      "    ------------------------------------------------------------\n",
      "                                           Total:       143.3 MB\n",
      "\n",
      "The following NEW packages will be INSTALLED:\n",
      "\n",
      "  blas               pkgs/main/linux-64::blas-1.0-mkl\n",
      "  intel-openmp       pkgs/main/linux-64::intel-openmp-2020.1-217\n",
      "  libgfortran-ng     pkgs/main/linux-64::libgfortran-ng-7.3.0-hdf63c60_0\n",
      "  mkl                pkgs/main/linux-64::mkl-2020.1-217\n",
      "  mkl-service        pkgs/main/linux-64::mkl-service-2.3.0-py38he904b0f_0\n",
      "  mkl_fft            pkgs/main/linux-64::mkl_fft-1.0.15-py38ha843d7b_0\n",
      "  mkl_random         pkgs/main/linux-64::mkl_random-1.1.1-py38h0573a6f_0\n",
      "  numpy              pkgs/main/linux-64::numpy-1.18.1-py38h4f9e942_0\n",
      "  numpy-base         pkgs/main/linux-64::numpy-base-1.18.1-py38hde5b4d6_1\n",
      "  pandas             pkgs/main/linux-64::pandas-1.0.3-py38h0573a6f_0\n",
      "  pytz               pkgs/main/noarch::pytz-2020.1-py_0\n",
      "\n",
      "\n",
      "\n",
      "Downloading and Extracting Packages\n",
      "mkl-2020.1           | 129.0 MB  | ##################################### | 100% \n",
      "numpy-1.18.1         | 5 KB      | ##################################### | 100% \n",
      "intel-openmp-2020.1  | 780 KB    | ##################################### | 100% \n",
      "numpy-base-1.18.1    | 4.2 MB    | ##################################### | 100% \n",
      "mkl-service-2.3.0    | 62 KB     | ##################################### | 100% \n",
      "pandas-1.0.3         | 8.8 MB    | ##################################### | 100% \n",
      "mkl_fft-1.0.15       | 159 KB    | ##################################### | 100% \n",
      "mkl_random-1.1.1     | 341 KB    | ##################################### | 100% \n",
      "Preparing transaction: done\n",
      "Verifying transaction: done\n",
      "Executing transaction: done\n",
      "\n",
      "Note: you may need to restart the kernel to use updated packages.\n"
     ]
    }
   ],
   "source": [
    "conda install pandas\n"
   ]
  },
  {
   "cell_type": "code",
   "execution_count": 4,
   "metadata": {},
   "outputs": [],
   "source": [
    "import pandas as pd\n",
    "import numpy as np"
   ]
  },
  {
   "cell_type": "code",
   "execution_count": null,
   "metadata": {},
   "outputs": [],
   "source": []
  }
 ],
 "metadata": {
  "kernelspec": {
   "display_name": "Python 3",
   "language": "python",
   "name": "python3"
  },
  "language_info": {
   "codemirror_mode": {
    "name": "ipython",
    "version": 3
   },
   "file_extension": ".py",
   "mimetype": "text/x-python",
   "name": "python",
   "nbconvert_exporter": "python",
   "pygments_lexer": "ipython3",
   "version": "3.8.3"
  }
 },
 "nbformat": 4,
 "nbformat_minor": 4
}
